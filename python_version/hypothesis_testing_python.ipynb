{
 "cells": [
  {
   "cell_type": "markdown",
   "metadata": {},
   "source": [
    "# Introduction to Sampling and Hypothesis Testing"
   ]
  },
  {
   "cell_type": "markdown",
   "metadata": {},
   "source": [
    "## Hypothesis Tests | Parametric tests"
   ]
  },
  {
   "cell_type": "code",
   "execution_count": null,
   "metadata": {},
   "outputs": [],
   "source": [
    "# Select this cell and type Ctrl-Enter to execute the code below.\n",
    "\n",
    "import numpy as np\n",
    "from scipy import stats\n",
    "import matplotlib.pyplot as plt"
   ]
  },
  {
   "cell_type": "markdown",
   "metadata": {},
   "source": [
    "Parametric tests rely on a probability distribution of known form as a model for the null hypothesis. \n",
    "\n",
    "Here we will look at some commonly-encountered examples."
   ]
  },
  {
   "cell_type": "markdown",
   "metadata": {},
   "source": [
    "### How surprising is my result? Calculating a p-value"
   ]
  },
  {
   "cell_type": "markdown",
   "metadata": {},
   "source": [
    "There are many circumstances where we simply want to check whether an observation looks like it is compatible with the null hypothesis, $H_{0}$. \n",
    "\n",
    "Having decided on a significance level $\\alpha$ and whether the situation warrants a one-tailed or a two-tailed test, we can use the cdf of the null distribution to calculate a p-value for the observation."
   ]
  },
  {
   "cell_type": "markdown",
   "metadata": {},
   "source": [
    "#### Example: probability of rolling a six\n",
    "\n",
    "Your arch-nemesis Blofeld always seems to win at ludo, and you have started to suspect him of using a loaded die.\n",
    "\n",
    "You observe the following outcomes from 100 rolls of his die:\n"
   ]
  },
  {
   "cell_type": "code",
   "execution_count": null,
   "metadata": {},
   "outputs": [],
   "source": [
    "data = np.array([6, 1, 5, 6, 2, 6, 4, 3, 4, 6, 1, 2, 5, 6, 6, 3, 6, 2, 6, 4, 6, 2,\n",
    "       5, 4, 2, 3, 3, 6, 6, 1, 2, 5, 6, 4, 6, 2, 1, 3, 6, 5, 4, 5, 6, 3,\n",
    "       6, 6, 1, 4, 6, 6, 6, 6, 6, 2, 3, 1, 6, 4, 3, 6, 2, 4, 6, 6, 6, 5,\n",
    "       6, 2, 1, 6, 6, 4, 3, 6, 5, 6, 6, 2, 6, 3, 6, 6, 1, 4, 6, 4, 2, 6,\n",
    "       6, 5, 2, 6, 6, 4, 3, 1, 6, 6, 5, 5])"
   ]
  },
  {
   "cell_type": "markdown",
   "metadata": {},
   "source": [
    "Do you have enough evidence to confront him?"
   ]
  },
  {
   "cell_type": "code",
   "execution_count": null,
   "metadata": {},
   "outputs": [],
   "source": [
    "# We will work with the binomial distribution for the observed number of sixes\n",
    "\n",
    "# Write down the hypotheses\n",
    "# H0: p = 1/6\n",
    "# H1: p > 1/6\n",
    "\n",
    "# choose a significance level\n",
    "# alpha = 0.01"
   ]
  },
  {
   "cell_type": "code",
   "execution_count": null,
   "metadata": {},
   "outputs": [],
   "source": [
    "# code the data as 6=success and {0-5}=failure\n",
    "six = np.where(data==6,1,0)\n",
    "print(six)\n",
    "\n",
    "# how many sixes were observed?\n",
    "x = np.sum(six)\n",
    "print(x)\n",
    "\n",
    "# check number of trials\n",
    "n = len(data)\n",
    "print(n)"
   ]
  },
  {
   "cell_type": "code",
   "execution_count": null,
   "metadata": {},
   "outputs": [],
   "source": [
    "# now use H0 to find the p-value of the observed number of sixes\n",
    "pval = 1 - stats.binom.cdf(k=42,n=100,p=1/6)  # note this uses k=(observed value-1)\n",
    "print(pval)"
   ]
  },
  {
   "cell_type": "code",
   "execution_count": null,
   "metadata": {},
   "outputs": [],
   "source": [
    "# pval is less than alpha, so reject H0."
   ]
  },
  {
   "cell_type": "markdown",
   "metadata": {},
   "source": [
    "#### Example: is the coin fair?\n",
    "\n",
    "Dr Vogel has challenged you to a game of ludo and you have agreed to flip a coin to decide who starts.\n",
    "\n",
    "You're not sure whether the coin she is using is fair or not.\n",
    "\n",
    "She flips it 50 times for you, with the following results: (1=heads, 0=tails)\n"
   ]
  },
  {
   "cell_type": "code",
   "execution_count": null,
   "metadata": {},
   "outputs": [],
   "source": [
    "data = np.array([1, 0, 1, 0, 1, 0, 1, 0, 1, 0, 0, 1, 0, 1, 0, 1, 0, 0, 1, 0, 0, 1, 0, 0, 1, 1, 0, 0, 1, 0, 0, 1, 0, 0, 1, 0, 0, 1, 0, 0, 1, 0, 1, 0, 0, 1, 0, 0, 0, 1])"
   ]
  },
  {
   "cell_type": "markdown",
   "metadata": {},
   "source": [
    "Does the coin appear to be fair? If not, should you pick heads or tails?"
   ]
  },
  {
   "cell_type": "code",
   "execution_count": null,
   "metadata": {},
   "outputs": [],
   "source": [
    "# Again, this is a binomial distribution for the observed number of heads, but this time the test is 2-tailed\n",
    "\n",
    "# Write down the hypotheses\n",
    "# H0: p = 1/2\n",
    "# H1: p != 1/2\n",
    "\n",
    "# choose a significance level\n",
    "# alpha = 0.05"
   ]
  },
  {
   "cell_type": "code",
   "execution_count": null,
   "metadata": {},
   "outputs": [],
   "source": [
    "# find the number of heads\n",
    "h = np.sum(data)\n",
    "print(h)\n",
    "\n",
    "# check number of trials\n",
    "n = len(data)\n",
    "print(n)"
   ]
  },
  {
   "cell_type": "code",
   "execution_count": null,
   "metadata": {},
   "outputs": [],
   "source": [
    "# now use H0 to find the p-value of the observed number of heads\n",
    "ex = 50 * 0.5 # the expected value\n",
    "print(ex)"
   ]
  },
  {
   "cell_type": "code",
   "execution_count": null,
   "metadata": {},
   "outputs": [],
   "source": [
    "x1 = 20  # the lower tail\n",
    "p1 = stats.binom.cdf(k=x1,n=50,p=0.5)  \n",
    "pval = 2 * p1 # double the p-value for a two-tailed test\n",
    "print(pval)"
   ]
  },
  {
   "cell_type": "code",
   "execution_count": null,
   "metadata": {},
   "outputs": [],
   "source": [
    "# pval is greater than alpha, so we accept H0: there is no evidence that the coin is biased, at the 5% level."
   ]
  },
  {
   "cell_type": "markdown",
   "metadata": {},
   "source": [
    "### Difference between two means: independent 2-sample t-test"
   ]
  },
  {
   "cell_type": "markdown",
   "metadata": {},
   "source": [
    "We use the **t test** to assess whether two samples taken from normal distributions have significantly different means. \n",
    "\n",
    "The test statistic follows a Student's t-distribution, provided that the variances of the two groups are equal.\n",
    "\n",
    "Other variants of the t-test are applicable under different conditions.\n",
    "\n",
    "The test statistic is\n",
    "\n",
    "$$ t = \\frac{\\bar{X}_{1} - \\bar{X}_{2}}{s_p \\cdot \\sqrt{\\frac{1}{n_{1}} + \\frac{1}{n_{2}}}} $$\n",
    "\n",
    "where\n",
    "\n",
    "$$ s_p = \\sqrt{\\frac{(n_1 - 1)s_1^2 + (n_2 - 1)s_2^2}{n_1 + n_2 - 2}} $$\n",
    "\n",
    "is an estimator of the pooled standard deviation.\n",
    "\n",
    "Under the null hypothesis of equal means, the statistic follows a Student's t-distribution with $(n_{1} + n_{2} - 2)$ degrees of freedom."
   ]
  },
  {
   "cell_type": "markdown",
   "metadata": {},
   "source": [
    "#### Example: difference in birth weight\n",
    "\n",
    "The birth weights of babies (in kg) have been measured for a sample of mothers split into two categories: nonsmoking and heavy smoking.\n",
    "\n",
    "- The two categories are measured independently from each other. \n",
    "- Both come from normal distributions\n",
    "- The two groups are assumed to have the same unknown variance.\n",
    "\n",
    "\n"
   ]
  },
  {
   "cell_type": "code",
   "execution_count": null,
   "metadata": {},
   "outputs": [],
   "source": [
    "data_nonsmoking = np.array([3.99, 3.79, 3.60, 3.73, 3.21, 3.60, 4.08, 3.61, 3.83, 3.31, 4.13, 3.26, 3.54])\n",
    "data_heavysmoking = np.array([3.18, 2.84, 2.90, 3.27, 3.85, 3.52, 3.23, 2.76, 3.60, 3.75, 3.59, 3.63, 2.38, 2.34, 2.44])\n"
   ]
  },
  {
   "cell_type": "markdown",
   "metadata": {},
   "source": [
    "We want to know whether there is a significant difference in mean birth weight between the two categories.\n"
   ]
  },
  {
   "cell_type": "code",
   "execution_count": null,
   "metadata": {},
   "outputs": [],
   "source": [
    "# Write down the hypotheses\n",
    "# H0: there is no difference in mean birth weight between groups: d == 0\n",
    "# H1: there is a difference, d != 0\n",
    "\n",
    "# choose a significance level\n",
    "# alpha = 0.05"
   ]
  },
  {
   "cell_type": "code",
   "execution_count": null,
   "metadata": {},
   "outputs": [],
   "source": [
    "\n",
    "n_ns = len(data_nonsmoking)\n",
    "n_hs = len(data_heavysmoking)\n",
    "\n",
    "mean_ns = np.mean(data_nonsmoking)\n",
    "mean_hs = np.mean(data_heavysmoking)\n",
    "\n",
    "s_ns = np.std(data_nonsmoking,ddof=1)\n",
    "s_hs = np.std(data_heavysmoking,ddof=1)\n",
    "\n",
    "print(n_ns,mean_ns,s_ns)\n",
    "print(n_hs,mean_hs,s_hs)"
   ]
  },
  {
   "cell_type": "code",
   "execution_count": null,
   "metadata": {},
   "outputs": [],
   "source": [
    "# difference between the two sample means:\n",
    "d_obs = mean_ns - mean_hs\n",
    "print(d_obs)"
   ]
  },
  {
   "cell_type": "code",
   "execution_count": null,
   "metadata": {},
   "outputs": [],
   "source": [
    "# the pooled standard deviation\n",
    "sp = np.sqrt(((n_ns - 1)*s_ns**2 + (n_hs - 1)*s_hs**2)/(n_ns + n_hs - 2))\n",
    "print(sp)"
   ]
  },
  {
   "cell_type": "code",
   "execution_count": null,
   "metadata": {},
   "outputs": [],
   "source": [
    "# the test statistic\n",
    "t_obs = d_obs/(sp * np.sqrt(1/n_ns + 1/n_hs))\n",
    "print(t_obs)"
   ]
  },
  {
   "cell_type": "code",
   "execution_count": null,
   "metadata": {},
   "outputs": [],
   "source": [
    "# degrees of freedom is given by n1 + n2 - 2\n",
    "df = n_ns + n_hs - 2\n",
    "print(df)"
   ]
  },
  {
   "cell_type": "code",
   "execution_count": null,
   "metadata": {},
   "outputs": [],
   "source": [
    "# find the critical value\n",
    "print(stats.t.interval(df=df,alpha=0.95)) # interval containing 95% of probability mass"
   ]
  },
  {
   "cell_type": "code",
   "execution_count": null,
   "metadata": {},
   "outputs": [],
   "source": [
    "# t_obs lies outside the 95% confidence interval, so we reject H0"
   ]
  }
 ],
 "metadata": {
  "kernelspec": {
   "display_name": "Python 3",
   "language": "python",
   "name": "python3"
  },
  "language_info": {
   "codemirror_mode": {
    "name": "ipython",
    "version": 3
   },
   "file_extension": ".py",
   "mimetype": "text/x-python",
   "name": "python",
   "nbconvert_exporter": "python",
   "pygments_lexer": "ipython3",
   "version": "3.7.6"
  }
 },
 "nbformat": 4,
 "nbformat_minor": 4
}

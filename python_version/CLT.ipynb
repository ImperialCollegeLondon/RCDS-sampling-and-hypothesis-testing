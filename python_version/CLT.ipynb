{
 "cells": [
  {
   "cell_type": "markdown",
   "metadata": {},
   "source": [
    "# Introduction to Sampling and Hypothesis Testing\n",
    "\n",
    "\n",
    "## Central Limit Theorem - demo\n",
    "\n",
    "\n"
   ]
  },
  {
   "cell_type": "code",
   "execution_count": null,
   "metadata": {},
   "outputs": [],
   "source": [
    "import numpy as np\n",
    "import matplotlib.pyplot as plt\n",
    "from scipy import stats"
   ]
  },
  {
   "cell_type": "markdown",
   "metadata": {},
   "source": [
    "### *X* = the number of sixes obtained when rolling ten dice\n"
   ]
  },
  {
   "cell_type": "markdown",
   "metadata": {},
   "source": [
    "The probability distribution for our variable $X$ is binomial:"
   ]
  },
  {
   "cell_type": "code",
   "execution_count": null,
   "metadata": {},
   "outputs": [],
   "source": [
    "sixes = stats.binom(10, 1/6)  # n=10, p=1/6"
   ]
  },
  {
   "cell_type": "code",
   "execution_count": null,
   "metadata": {},
   "outputs": [],
   "source": [
    "# plot the probability mass function\n",
    "x = np.arange(11)\n",
    "plt.plot(x,sixes.pmf(x), 'ro', ms=8)\n",
    "plt.vlines(x, 0, sixes.pmf(x), colors='r', lw=4)\n",
    "plt.show()"
   ]
  },
  {
   "cell_type": "markdown",
   "metadata": {},
   "source": [
    "The population mean, $\\mu$:"
   ]
  },
  {
   "cell_type": "code",
   "execution_count": null,
   "metadata": {},
   "outputs": [],
   "source": [
    "sixes.mean()"
   ]
  },
  {
   "cell_type": "markdown",
   "metadata": {},
   "source": [
    "The population variance, $\\sigma^2$:"
   ]
  },
  {
   "cell_type": "code",
   "execution_count": null,
   "metadata": {},
   "outputs": [],
   "source": [
    "sixes.var()"
   ]
  },
  {
   "cell_type": "markdown",
   "metadata": {},
   "source": [
    "Let's imagine taking a sample of size $n$ (i.e. $n$ observations of the variable $X$):"
   ]
  },
  {
   "cell_type": "code",
   "execution_count": null,
   "metadata": {},
   "outputs": [],
   "source": [
    "n = 5\n",
    "sample = sixes.rvs(size=n)\n",
    "print(sample)"
   ]
  },
  {
   "cell_type": "markdown",
   "metadata": {},
   "source": [
    "We can plot the observed distribution of our sampled data, $x$. "
   ]
  },
  {
   "cell_type": "code",
   "execution_count": null,
   "metadata": {},
   "outputs": [],
   "source": [
    "x = np.arange(11)\n",
    "plt.hist(sample, bins=x)\n",
    "plt.show()"
   ]
  },
  {
   "cell_type": "markdown",
   "metadata": {},
   "source": [
    "For this particular sample, the sample mean, $\\bar{x}$ is"
   ]
  },
  {
   "cell_type": "code",
   "execution_count": null,
   "metadata": {},
   "outputs": [],
   "source": [
    "sample.mean()"
   ]
  },
  {
   "cell_type": "markdown",
   "metadata": {},
   "source": [
    "and the sample variance, $s^2$, is"
   ]
  },
  {
   "cell_type": "code",
   "execution_count": null,
   "metadata": {},
   "outputs": [],
   "source": [
    "sample.var()"
   ]
  },
  {
   "cell_type": "markdown",
   "metadata": {},
   "source": [
    "Notice that the value of $\\bar{x}$ changes depending on the sample. We can treat it as an observation from a new random variable, $\\bar{X}$. "
   ]
  },
  {
   "cell_type": "markdown",
   "metadata": {},
   "source": [
    "Now if we repeat this process many times and plot a histogram of these sample means (the observed distribution of $\\bar{X}$)..."
   ]
  },
  {
   "cell_type": "code",
   "execution_count": null,
   "metadata": {},
   "outputs": [],
   "source": [
    "xbars = []\n",
    "for i in range(1000):\n",
    "    sample = sixes.rvs(size=n)\n",
    "    xbar = np.mean(sample)\n",
    "    xbars.append(xbar)"
   ]
  },
  {
   "cell_type": "code",
   "execution_count": null,
   "metadata": {},
   "outputs": [],
   "source": [
    "fig, ax = plt.subplots(1, 1)\n",
    "ax.hist(xbars,bins=50,range=(0,5), color='g')\n",
    "ax.set_title(\"n = \" + str(n))\n",
    "plt.show()"
   ]
  },
  {
   "cell_type": "markdown",
   "metadata": {},
   "source": [
    "The width of this histogram depends strongly on the sample size, $n$.\n",
    "\n",
    "You can see that the distribution of $\\bar{X}$ is very different to the distribution of $X$, although it is centred around the same mean value. We call this the **sampling distribution of the mean**.\n",
    "\n",
    "For a sample of size $n$, the **central limit theorem** states that $\\bar{X}$ converges to a *normal distribution* as $n$ becomes large:\n",
    "\n",
    "$$ N \\approx N(\\mu, \\frac{\\sigma^2}{n}) $$\n",
    "\n",
    "The standard deviation of the $\\bar{X}$ distribution is called the **standard error**, $\\frac{\\sigma}{\\sqrt{n}}$. \n",
    "\n",
    "When $n$ is large, we can estimate the standard error as $\\frac{s}{\\sqrt{n}}$."
   ]
  }
 ],
 "metadata": {
  "kernelspec": {
   "display_name": "Python 3",
   "language": "python",
   "name": "python3"
  },
  "language_info": {
   "codemirror_mode": {
    "name": "ipython",
    "version": 3
   },
   "file_extension": ".py",
   "mimetype": "text/x-python",
   "name": "python",
   "nbconvert_exporter": "python",
   "pygments_lexer": "ipython3",
   "version": "3.8.2"
  }
 },
 "nbformat": 4,
 "nbformat_minor": 4
}

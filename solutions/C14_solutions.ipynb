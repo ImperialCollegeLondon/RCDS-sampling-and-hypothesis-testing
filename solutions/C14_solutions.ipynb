{
 "cells": [
  {
   "cell_type": "markdown",
   "metadata": {},
   "source": [
    "# Introduction to Sampling and Hypothesis Testing\n",
    "\n",
    "## Carbon-14 assignment: suggested solutions"
   ]
  },
  {
   "cell_type": "code",
   "execution_count": 1,
   "metadata": {},
   "outputs": [],
   "source": [
    "import numpy as np\n",
    "import math\n",
    "from scipy import stats\n",
    "import matplotlib.pyplot as plt\n",
    "\n",
    "\n",
    "np.set_printoptions(precision=2)\n",
    "\n",
    "# To make the working a little clearer, I have not rounded the results presented below.\n",
    "\n",
    "# Of course, numerical results should normally be presented at an appropriate precision.\n",
    "# In this exercise, none of the values given has more than 2 significant figures, so that \n",
    "# would be a sensible precision for the final results for each question.\n"
   ]
  },
  {
   "cell_type": "markdown",
   "metadata": {},
   "source": [
    "---\n",
    "\n",
    "You have been given 500g of wood charcoal and a [Geiger-Müller (G-M) counter](https://en.wikipedia.org/wiki/Geiger_counter). \n",
    "\n",
    "You are using this equipment to investigate the decay of the naturally-occurring radioactive isotope, Carbon-14.\n",
    "\n",
    "You point the G-M tube towards the charcoal.\n",
    "\n",
    "Over six consecutive ten-minute intervals, the detector gives the following counts:\n",
    "10, 21, 19, 15, 26, 17.\n",
    "\n",
    "---"
   ]
  },
  {
   "cell_type": "markdown",
   "metadata": {},
   "source": [
    "### Question 1\n",
    "\n",
    "Based on these observations, calculate the\n",
    "\n",
    "(a) sample mean,\n",
    "\n",
    "(b) sample standard deviation, and\n",
    "\n",
    "(c) standard error of the mean\n",
    "\n",
    "for the number of counts observed in a 10-minute interval."
   ]
  },
  {
   "cell_type": "code",
   "execution_count": 2,
   "metadata": {},
   "outputs": [
    {
     "name": "stdout",
     "output_type": "stream",
     "text": [
      "xbar:  18.0\n",
      "std:  5.440588203494177\n",
      "stderr:  2.221110833194358\n"
     ]
    }
   ],
   "source": [
    "data = np.array([10,21,19,15,26,17])\n",
    "\n",
    "xbar = data.mean()\n",
    "print('xbar: ', xbar)\n",
    "\n",
    "# using the unbiased estimator\n",
    "std = data.std(ddof=1)\n",
    "print('std: ', std)\n",
    "\n",
    "n = len(data)\n",
    "stderr = std / np.sqrt(n)\n",
    "print('stderr: ', stderr)\n"
   ]
  },
  {
   "cell_type": "markdown",
   "metadata": {},
   "source": [
    "### Question 2\n",
    "\n",
    "(a) Plot the PMF for the number of counts observed in a ten-minute interval. "
   ]
  },
  {
   "cell_type": "code",
   "execution_count": 3,
   "metadata": {},
   "outputs": [
    {
     "data": {
      "text/plain": [
       "<matplotlib.collections.LineCollection at 0x1a21ebc450>"
      ]
     },
     "execution_count": 3,
     "metadata": {},
     "output_type": "execute_result"
    },
    {
     "data": {
      "image/png": "[encoded data removed]",
      "text/plain": [
       "<Figure size 432x288 with 1 Axes>"
      ]
     },
     "metadata": {
      "needs_background": "light"
     },
     "output_type": "display_data"
    }
   ],
   "source": [
    "# The number of counts is a discrete random variable.\n",
    "# Radioactive decays are randomly distributed in time, hence\n",
    "# the probability distribution for the number of counts is a Poisson with mean 18.0\n",
    "counts = stats.poisson(xbar)\n",
    "\n",
    "# plot the pmf\n",
    "x = np.arange(35)\n",
    "plt.plot(x,counts.pmf(x), 'ro', ms=4)\n",
    "plt.vlines(x, 0, counts.pmf(x), colors='r', lw=3)\n"
   ]
  },
  {
   "cell_type": "markdown",
   "metadata": {},
   "source": [
    "(b) What is the probability of observing fewer than 10 counts within a ten-minute interval?"
   ]
  },
  {
   "cell_type": "code",
   "execution_count": 4,
   "metadata": {},
   "outputs": [
    {
     "data": {
      "text/plain": [
       "0.015381097260589295"
      ]
     },
     "execution_count": 4,
     "metadata": {},
     "output_type": "execute_result"
    }
   ],
   "source": [
    "# The probability of observing 9 or fewer counts is given by the CDF:\n",
    "counts.cdf(9)"
   ]
  },
  {
   "cell_type": "markdown",
   "metadata": {},
   "source": [
    "---\n",
    "\n",
    "The G-M tube has a circular window with diameter 5cm.\n",
    "\n",
    "The tube is positioned 10cm from the centre of the charcoal sample.\n",
    "\n",
    "The tube’s detection efficiency for the low-energy beta particles emitted by C-14 is 2%.\n",
    "\n",
    "---\n",
    "\n",
    "### Question 3 \n",
    "\n",
    "Calculate a 90% confidence interval for the mean number of beta decays occurring in the sample per second."
   ]
  },
  {
   "cell_type": "code",
   "execution_count": 5,
   "metadata": {},
   "outputs": [
    {
     "name": "stdout",
     "output_type": "stream",
     "text": [
      "window area:  0.001963495408493621\n",
      "sphere surface area:  0.12566370614359174\n",
      "fraction of decays detected:  0.0003125\n",
      "mean decays/s: 96.0\n",
      "stderr decays/s: 11.845924443703241\n"
     ]
    }
   ],
   "source": [
    "# area of the window:\n",
    "a = np.pi * (0.025)**2\n",
    "print('window area: ', a)\n",
    "\n",
    "# surface area of a 10cm sphere around the sample:\n",
    "A = 4 * np.pi * (0.1)**2\n",
    "print('sphere surface area: ', A)\n",
    "\n",
    "# efficiency of the detector:\n",
    "eff = 0.02\n",
    "\n",
    "# fraction of decays that are actually detected:\n",
    "f = (a/A) * eff\n",
    "print('fraction of decays detected: ', f)\n",
    "\n",
    "# converting the mean and standard error to total decays per second:\n",
    "mean_decays = xbar / ( 10 * 60 * f )\n",
    "print('mean decays/s:', mean_decays)\n",
    "\n",
    "stderr_decays = stderr / ( 10 * 60 * f )\n",
    "print('stderr decays/s:', stderr_decays)\n"
   ]
  },
  {
   "cell_type": "code",
   "execution_count": 8,
   "metadata": {},
   "outputs": [
    {
     "name": "stdout",
     "output_type": "stream",
     "text": [
      "90% CI for decays per second: [ 72.13 119.87]\n"
     ]
    }
   ],
   "source": [
    "# Because n<30, we need to use Student's t-distribution to find the confidence interval.\n",
    "T = stats.t(df=n-1)\n",
    "t90 = T.interval(0.9)[1]\n",
    "\n",
    "ci = np.array([mean_decays - t90 * stderr_decays , mean_decays + t90 * stderr_decays])\n",
    "print('90% CI for decays per second:',ci)"
   ]
  },
  {
   "cell_type": "markdown",
   "metadata": {},
   "source": [
    "---\n",
    "\n",
    "The charcoal is estimated to be 80% carbon by weight.\n",
    "\n",
    "A carbon atom has a mass of $2 \\times 10^{-26}$ kg.\n",
    "\n",
    "Approximately 1 in every $10^{12}$ carbon atoms in the atmosphere is C-14.\n",
    "\n",
    "The [half-life](https://en.wikipedia.org/wiki/Half-life) of a radioisotope is the period of time after which its probability of having decayed is 0.5.\n",
    "\n",
    "The half-life, $t_{1/2}$, is given by the formula\n",
    "$$ t_{1/2} = \\tau\\ln (2), $$\n",
    "where $\\tau$ is the *mean lifetime* of the radioisotope.\n",
    "\n",
    "---\n",
    "\n",
    "### Question 4\n",
    "\n",
    "Using your answer to Q3, calculate a 90% confidence interval for the half-life of Carbon-14."
   ]
  },
  {
   "cell_type": "code",
   "execution_count": 12,
   "metadata": {},
   "outputs": [
    {
     "name": "stdout",
     "output_type": "stream",
     "text": [
      "sample contains 2.e+13 atoms of C-14\n",
      "90% CI for decays per C-14 atom per second: [3.61e-12 5.99e-12]\n"
     ]
    }
   ],
   "source": [
    "# First, we should convert our confidence interval into decays per C-14 atom per second:\n",
    "\n",
    "carbon_mass = 0.5 * 0.8\n",
    "n_C = carbon_mass / 2e-26\n",
    "n_C14 = n_C / 1e12\n",
    "print('sample contains', np.format_float_scientific(n_C14), 'atoms of C-14')\n",
    "\n",
    "\n",
    "ci_C14 = ci / n_C14\n",
    "print('90% CI for decays per C-14 atom per second:',ci_C14)\n"
   ]
  },
  {
   "cell_type": "code",
   "execution_count": 13,
   "metadata": {},
   "outputs": [
    {
     "name": "stdout",
     "output_type": "stream",
     "text": [
      "90% CI for mean lifetime (in seconds): [1.67e+11 2.77e+11]\n",
      "90% CI for C-14 half-life (in seconds): [1.16e+11 1.92e+11]\n"
     ]
    }
   ],
   "source": [
    "# Now we can use the formula given to calculate the CI for half life.\n",
    "\n",
    "# The mean lifetime is the inverse of the decay constant (expected decays per second, aka lambda).\n",
    "# We can plug in the confidence interval that we just calculated.\n",
    "# The numpy flip() function reverses the order of the CI array.\n",
    "tau = np.flip(1 / ci_C14)\n",
    "print('90% CI for mean lifetime (in seconds):', tau)\n",
    "\n",
    "t_half_ci = tau * np.log(2)\n",
    "print('90% CI for C-14 half-life (in seconds):', t_half_ci )"
   ]
  },
  {
   "cell_type": "code",
   "execution_count": 14,
   "metadata": {},
   "outputs": [
    {
     "name": "stdout",
     "output_type": "stream",
     "text": [
      "90% CI for C-14 half-life (in years): [3664.72 6090.27]\n"
     ]
    }
   ],
   "source": [
    "# or in years:\n",
    "print('90% CI for C-14 half-life (in years):', t_half_ci/(60*60*24*365.25) )"
   ]
  },
  {
   "cell_type": "markdown",
   "metadata": {},
   "source": [
    "---\n",
    "\n",
    "The sample is replaced by a new charcoal sample, of the same mass but unknown origin. \n",
    "\n",
    "The G-M counter reads the following counts over six consecutive ten-minute periods: 8, 16, 10, 20, 17, 14.\n",
    "\n",
    "---\n",
    "\n",
    "### Question 5\n",
    "\n",
    "Is this sample older than the first one? Carry out a hypothesis test."
   ]
  },
  {
   "cell_type": "code",
   "execution_count": 15,
   "metadata": {},
   "outputs": [
    {
     "name": "stdout",
     "output_type": "stream",
     "text": [
      "Difference in mean counts: 3.833333333333334\n",
      "p-value: 0.10636637637680363\n"
     ]
    }
   ],
   "source": [
    "data2 = np.array([8, 16, 10, 20, 17, 14])\n",
    "\n",
    "# If the second sample is substantially older, it will have lower radioactivity as some of its C-14 will\n",
    "# have already decayed.\n",
    "\n",
    "# We can use an independent 2-sample t-test to investigate the difference in the mean number of counts,\n",
    "# d = mu_sample1 - mu_sample2\n",
    "# H0 : d = 0\n",
    "# H1 : d > 1\n",
    "\n",
    "# Let's choose a significance level alpha = 0.05\n",
    "\n",
    "# The difference in means is\n",
    "d = data.mean() - data2.mean()\n",
    "print('Difference in mean counts:',d)\n",
    "\n",
    "# In the course notebook, we did the t-test the long-winded way.\n",
    "#\n",
    "# Actually, scipy has a convenient t-test function, but we need to remember that it returns a \n",
    "# TWO-TAILED p-value. Always check the documentation!\n",
    "# https://docs.scipy.org/doc/scipy/reference/generated/scipy.stats.ttest_ind.html\n",
    "\n",
    "# We feed in the two data samples and collect the two-tailed p-value:\n",
    "p_2tailed = stats.ttest_ind(data,data2).pvalue\n",
    "\n",
    "# then halve the result to give the one-tailed p-value:\n",
    "p = p_2tailed / 2\n",
    "print('p-value:',p)"
   ]
  },
  {
   "cell_type": "code",
   "execution_count": null,
   "metadata": {},
   "outputs": [],
   "source": [
    "# So there is no significant difference in the sample means, at the 5% significance level.\n",
    "# Hence we cannot reject H0. There is no evidence that the second sample is older than the first."
   ]
  },
  {
   "cell_type": "markdown",
   "metadata": {},
   "source": [
    "---"
   ]
  }
 ],
 "metadata": {
  "kernelspec": {
   "display_name": "Python 3",
   "language": "python",
   "name": "python3"
  },
  "language_info": {
   "codemirror_mode": {
    "name": "ipython",
    "version": 3
   },
   "file_extension": ".py",
   "mimetype": "text/x-python",
   "name": "python",
   "nbconvert_exporter": "python",
   "pygments_lexer": "ipython3",
   "version": "3.7.6"
  }
 },
 "nbformat": 4,
 "nbformat_minor": 4
}
